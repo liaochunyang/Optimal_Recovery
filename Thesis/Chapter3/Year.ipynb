{
 "cells": [
  {
   "cell_type": "markdown",
   "metadata": {},
   "source": [
    "This file is used to produce Fig 3.3\n",
    "\n",
    "YearPrediction.txt file contains the dataset. It is available through the link: https://archive-beta.ics.uci.edu/dataset/203/yearpredictionmsd\n",
    "\n",
    "Reference: Bertin-Mahieux,T.. (2011). YearPredictionMSD. UCI Machine Learning Repository."
   ]
  },
  {
   "cell_type": "code",
   "execution_count": null,
   "metadata": {},
   "outputs": [],
   "source": [
    "# loading packages\n",
    "import numpy as np\n",
    "import pandas as pd\n",
    "from pandas import DataFrame\n",
    "from sklearn import preprocessing\n",
    "import scipy\n",
    "from numpy import linalg as LA\n",
    "from scipy.spatial import distance\n",
    "from sklearn.model_selection import train_test_split\n",
    "import matplotlib.pyplot as plt"
   ]
  },
  {
   "cell_type": "code",
   "execution_count": 2,
   "metadata": {},
   "outputs": [],
   "source": [
    "# Global Varaible\n",
    "Monte = 30                              #Monte_Carlo Numbers\n",
    "m,d=(5000,90)                           #Data dimension\n",
    "s = 515344                              #Dataset size\n",
    "(dim_G,dim_P) = (91,91)                 #Subspace Dimension\n",
    "width = 3                               #Gaussian Kernel Width\n",
    "m_t = 3500                              #Training Set Size\n",
    "m_e = 1500                              #Testing Set Size\n",
    "index = range(0,m_t)                    #Index used for train-test split\n"
   ]
  },
  {
   "cell_type": "code",
   "execution_count": 3,
   "metadata": {},
   "outputs": [],
   "source": [
    "# Optimal Recovery Map\n",
    "def OR(Input_1,Kern_inv,Y_train,Input_2,Cross_kern):\n",
    "    Output_1 = Y_train\n",
    "    C = LA.inv(LA.multi_dot([np.transpose(Input_1),Kern_inv,Input_1]))\n",
    "    Co_1 = LA.multi_dot([C,np.transpose(Input_1),Kern_inv,Output_1])\n",
    "    Co_2 = LA.multi_dot([Kern_inv,(Output_1 - np.dot(Input_1,Co_1))])\n",
    "    return np.dot(Input_2,Co_1) + np.dot(Cross_kern,Co_2)"
   ]
  },
  {
   "cell_type": "code",
   "execution_count": 4,
   "metadata": {},
   "outputs": [],
   "source": [
    "# Simulation (It takes about 1 hr to run!!! Be patient!)\n",
    "Er_KRR_GNG = np.zeros(shape = (Monte,1))\n",
    "Error_Taylor_reg = np.zeros(shape = (dim_G,Monte))\n",
    "Error_GNG = np.zeros(shape = (dim_G,Monte))\n",
    "\n",
    "for k in range(0,Monte):\n",
    "    index_sub = np.random.choice(s,m,replace = False)\n",
    "    Data = pd.read_csv(\"YearPrediction.txt\", sep = \",\")         #Reading data, should be customized to read new data file.\n",
    "    Data = pd.DataFrame(preprocessing.scale(Data))\n",
    "    Data = Data.loc[index_sub]\n",
    "    Data = Data.sort_values(by = [4])                           #Sorting data, should be customized to sort the data according to a different attributed.\n",
    "    Dat = Data.to_numpy()\n",
    "    Y = Dat[:,0]\n",
    "    X = np.delete(Dat,0,axis = 1)\n",
    "    D = distance.squareform(distance.pdist(X,'euclidean'))\n",
    "    Kern_Gauss = np.exp(-D**2/(2*width**2))\n",
    "    Kern_Gauss_inv = LA.inv(Kern_Gauss)\n",
    "    Ex = np.zeros(shape = (m,1))\n",
    "    for i in range(0,m):\n",
    "        Ex[i] = np.exp(-LA.norm(X[i,:])**2/(2*width**2))\n",
    "    L= (1/width)*Ex*X\n",
    "    X_Taylor = np.hstack((Ex*np.ones(shape = (m,1)),L))\n",
    "    (X_train,X_test)=(X[index,:],np.delete(X,index,0))\n",
    "    (X_Taylor_train,X_Taylor_test)=(X_Taylor[index,:],np.delete(X_Taylor,index,0))\n",
    "    (Y_train,Y_test)=(Y[index],np.delete(Y,index,0))\n",
    "    D_train = distance.squareform(distance.pdist(X_train,'euclidean'))\n",
    "    Kern_Gauss_train = np.exp(-D_train**2/(2*width**2))\n",
    "    Kern_Gauss_train_inv = LA.inv(Kern_Gauss_train)\n",
    "    CrossKern_Gauss = np.zeros(shape = (m_e,m_t))\n",
    "    for i in range(0,m_e):\n",
    "        for j in range(0,m_t):\n",
    "            CrossKern_Gauss[i,j] = np.exp(-distance.euclidean(X_test[i],X_train[j])**2/(2*width**2))\n",
    "    for i in range(0,dim_G):\n",
    "        Error_GNG[i,k] = LA.norm(OR(X_Taylor_train[:,0:i],Kern_Gauss_train_inv,Y_train,X_Taylor_test[:,0:i],CrossKern_Gauss) - Y_test,ord = 2)/m_e\n",
    "    Y_hat = LA.multi_dot([CrossKern_Gauss,Kern_Gauss_train_inv,Y_train])    \n",
    "    Er_KRR_GNG[k] = LA.norm(Y_hat - Y_test,ord = 2)/m_e\n",
    "    for i in range(0,dim_G):\n",
    "        Error_Taylor_reg[i,k] = LA.norm(Y_test - LA.multi_dot([X_Taylor_test[:,0:i],LA.inv(np.dot(np.transpose(X_Taylor_train[:,0:i]),X_Taylor_train[:,0:i])),np.transpose(X_Taylor_train[:,0:i]),Y_train])  , ord = 2)/m_e         \n"
   ]
  },
  {
   "cell_type": "code",
   "execution_count": 5,
   "metadata": {},
   "outputs": [
    {
     "name": "stdout",
     "output_type": "stream",
     "text": [
      "[[0.02326529 0.02392872 0.02303722 ... 0.02549837 0.02584807 0.0243451 ]\n",
      " [0.02326138 0.02392977 0.02303735 ... 0.02549735 0.02584883 0.02434422]\n",
      " [0.02323084 0.02389494 0.02297765 ... 0.02540148 0.02581774 0.02423989]\n",
      " ...\n",
      " [0.02320551 0.02403565 0.02299847 ... 0.02526515 0.02591766 0.02422969]\n",
      " [0.02320896 0.02405548 0.02299758 ... 0.02525558 0.02591887 0.02423031]\n",
      " [0.02320697 0.02405928 0.02299638 ... 0.02525705 0.0259179  0.02423908]]\n",
      "[[0.025463   0.02623319 0.02544683 ... 0.0276764  0.02733426 0.02690905]\n",
      " [0.02542434 0.02614257 0.02543486 ... 0.0276788  0.02738137 0.02685984]\n",
      " [0.02456408 0.02513233 0.02454636 ... 0.02671867 0.02657665 0.02560633]\n",
      " ...\n",
      " [0.02337156 0.02433981 0.0232744  ... 0.02528378 0.02584524 0.02446903]\n",
      " [0.023398   0.02436356 0.0232767  ... 0.02528425 0.02584753 0.02448216]\n",
      " [0.02339143 0.02436442 0.02328026 ... 0.02528266 0.02584469 0.02448714]]\n",
      "[[0.02326529]\n",
      " [0.02392872]\n",
      " [0.02303722]\n",
      " [0.02327211]\n",
      " [0.02356971]\n",
      " [0.0254848 ]\n",
      " [0.02374987]\n",
      " [0.02450367]\n",
      " [0.02444124]\n",
      " [0.02483843]\n",
      " [0.02477003]\n",
      " [0.02352444]\n",
      " [0.02465994]\n",
      " [0.02356928]\n",
      " [0.0251289 ]\n",
      " [0.02486115]\n",
      " [0.0244081 ]\n",
      " [0.02374368]\n",
      " [0.02462725]\n",
      " [0.02438818]\n",
      " [0.02413446]\n",
      " [0.02375564]\n",
      " [0.02433458]\n",
      " [0.02381836]\n",
      " [0.0226569 ]\n",
      " [0.02416262]\n",
      " [0.02489252]\n",
      " [0.02549837]\n",
      " [0.02584807]\n",
      " [0.0243451 ]]\n"
     ]
    }
   ],
   "source": [
    "# Output\n",
    "print(Error_GNG)                    #The L-2 norm of the test error vector for Optimal Recovery. A dim(dim_G,Monte) array. Row i corresponds to Optimal Recovery error with subspace V of dimension i+1 for Monte number of simulations.\n",
    "print(Error_Taylor_reg)             #The L-2 norm of the test error vector for Taylor feature regression. A dim(dim_G,Monte) array. Row i corresponds to Taylor feature regression error with space V of dimension i+1 for Monte number of simulations.\n",
    "print(Er_KRR_GNG)                   #The L-2 norm of the test error vector for Gaussian kernel ridgeless regression. A dim(Monte,1) array. When the full dataset is being used, Monte = 1, this output become a number.\n",
    "\n",
    "#%%Average OR Error\n",
    "Error_GNG_avg = np.zeros(shape = (dim_G,1))\n",
    "Error_GNG_ste = np.zeros(shape = (dim_G,1))\n",
    "for i in range(0,dim_G):\n",
    "    Error_GNG_avg[i] = np.mean(Error_GNG[i,:])\n",
    "for i in range(0,dim_G):\n",
    "    Error_GNG_ste[i] = np.std(Error_GNG[i,:])/Monte\n"
   ]
  },
  {
   "cell_type": "code",
   "execution_count": 6,
   "metadata": {},
   "outputs": [],
   "source": [
    "#%%Average Taylor Regression Error\n",
    "Error_Taylor_avg = np.zeros(shape = (dim_G,1))\n",
    "Error_Taylor_ste = np.zeros(shape = (dim_G,1))\n",
    "for i in range(0,dim_G):\n",
    "    Error_Taylor_avg[i] = np.mean(Error_Taylor_reg[i,:])\n",
    "    \n",
    "for i in range(0,dim_G):\n",
    "    Error_Taylor_ste[i] = np.std(Error_Taylor_reg[i,:])/Monte\n",
    "    \n",
    "#%%Average Kernel Ridgeless Regression\n",
    "Er_KRR_avg = np.mean(Er_KRR_GNG)*np.ones(shape = (dim_G,1))\n",
    "Er_KRR_ste = np.std(Er_KRR_GNG)/Monte*np.ones(shape = (dim_G,1))"
   ]
  },
  {
   "cell_type": "code",
   "execution_count": 7,
   "metadata": {},
   "outputs": [
    {
     "name": "stderr",
     "output_type": "stream",
     "text": [
      "/Applications/anaconda3/lib/python3.7/site-packages/ipykernel_launcher.py:4: MatplotlibDeprecationWarning: Support for passing a (n, 1)-shaped error array to errorbar() is deprecated since Matplotlib 3.1 and will be removed in 3.3; pass a 1D array instead.\n",
      "  after removing the cwd from sys.path.\n",
      "/Applications/anaconda3/lib/python3.7/site-packages/ipykernel_launcher.py:5: MatplotlibDeprecationWarning: Support for passing a (n, 1)-shaped error array to errorbar() is deprecated since Matplotlib 3.1 and will be removed in 3.3; pass a 1D array instead.\n",
      "  \"\"\"\n",
      "/Applications/anaconda3/lib/python3.7/site-packages/ipykernel_launcher.py:6: MatplotlibDeprecationWarning: Support for passing a (n, 1)-shaped error array to errorbar() is deprecated since Matplotlib 3.1 and will be removed in 3.3; pass a 1D array instead.\n",
      "  \n",
      "The PostScript backend does not support transparency; partially transparent artists will be rendered opaque.\n",
      "The PostScript backend does not support transparency; partially transparent artists will be rendered opaque.\n"
     ]
    },
    {
     "data": {
      "image/png": "[encoded data removed]",
      "text/plain": [
       "<Figure size 432x288 with 1 Axes>"
      ]
     },
     "metadata": {
      "needs_background": "light"
     },
     "output_type": "display_data"
    }
   ],
   "source": [
    "#%%Generating Plot\n",
    "Xlabel = range(1,92)\n",
    "plt.plot(Xlabel,Error_GNG_avg)\n",
    "plt.errorbar(Xlabel, Error_GNG_avg, yerr=Error_GNG_ste, color='red', capsize=5, capthick=1, ecolor='black',label = 'Optimal Recovery')\n",
    "plt.errorbar(Xlabel, Error_Taylor_avg, yerr=Error_Taylor_ste, color='blue', capsize=5, capthick=1, ecolor='black',label = 'Taylor Feature Regression')\n",
    "plt.errorbar(Xlabel, Er_KRR_avg, yerr=Er_KRR_ste, color='green', capsize=5, capthick=1, ecolor='black',label = 'Kernel Ridgeless Regression')\n",
    "plt.xticks([1,19,37,55,73,91])\n",
    "plt.ylabel('Average L2 Norm of Test Error',fontname=\"Times New Roman\")\n",
    "plt.xlabel('Dim(V)',fontname=\"Times New Roman\")\n",
    "plt.suptitle('Years Prediction',fontname=\"Times New Roman\")\n",
    "plt.legend()\n",
    "plt.gcf().subplots_adjust(bottom=0.15,left = 0.15)\n",
    "plt.savefig(\"Year_Taylor.eps\",format = 'eps')\n",
    "plt.savefig(\"Year_Taylor.png\",format = 'png')"
   ]
  }
 ],
 "metadata": {
  "kernelspec": {
   "display_name": "Python 3",
   "language": "python",
   "name": "python3"
  },
  "language_info": {
   "codemirror_mode": {
    "name": "ipython",
    "version": 3
   },
   "file_extension": ".py",
   "mimetype": "text/x-python",
   "name": "python",
   "nbconvert_exporter": "python",
   "pygments_lexer": "ipython3",
   "version": "3.7.6"
  }
 },
 "nbformat": 4,
 "nbformat_minor": 4
}
