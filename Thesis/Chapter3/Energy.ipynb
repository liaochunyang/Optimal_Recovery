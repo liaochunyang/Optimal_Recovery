{
 "cells": [
  {
   "cell_type": "markdown",
   "metadata": {},
   "source": [
    "This file is used to produce Fig 3.2\n",
    "\n",
    "Energy.xlsx file contains dataset. It is available through the link: https://archive-beta.ics.uci.edu/dataset/242/energy+efficiency\n",
    "\n",
    "Reference: Tsanas,Athanasios & Xifara,Angeliki. (2012). Energy efficiency. UCI Machine Learning Repository."
   ]
  },
  {
   "cell_type": "code",
   "execution_count": null,
   "metadata": {},
   "outputs": [],
   "source": [
    "# loading packages\n",
    "import numpy as np\n",
    "import pandas as pd\n",
    "from sklearn import preprocessing\n",
    "import scipy\n",
    "from numpy import linalg as LA\n",
    "from scipy.spatial import distance\n",
    "from sklearn.model_selection import train_test_split\n",
    "import matplotlib.pyplot as plt"
   ]
  },
  {
   "cell_type": "code",
   "execution_count": 12,
   "metadata": {},
   "outputs": [],
   "source": [
    "# Global Varaible\n",
    "Monte = 2                   #Monte-Carlo Simulation Numbers\n",
    "m,d=(768,8)                 #Data dimension\n",
    "(dim_G,dim_P) = (9,9)       #Subspace Dimension\n",
    "width = 1.2                 #Gaussian Kernel Width\n",
    "m_t = 500                   #Training Set Size\n",
    "m_e = 268                   #Testing Set Size\n",
    "index = range(0,m_t)        #Index used for train-test split"
   ]
  },
  {
   "cell_type": "code",
   "execution_count": 13,
   "metadata": {},
   "outputs": [],
   "source": [
    "# Optimal Recovery Map\n",
    "def OR(Input_1,Kern_inv,Y_train,Input_2,Cross_kern):\n",
    "    Output_1 = Y_train\n",
    "    C = LA.inv(LA.multi_dot([np.transpose(Input_1),Kern_inv,Input_1]))\n",
    "    Co_1 = LA.multi_dot([C,np.transpose(Input_1),Kern_inv,Output_1])\n",
    "    Co_2 = LA.multi_dot([Kern_inv,(Output_1 - np.dot(Input_1,Co_1))])\n",
    "    return np.dot(Input_2,Co_1) + np.dot(Cross_kern,Co_2)"
   ]
  },
  {
   "cell_type": "code",
   "execution_count": 14,
   "metadata": {},
   "outputs": [],
   "source": [
    "Er_KRR_GNG = np.zeros(shape = (Monte,1))\n",
    "Error_Taylor_reg = np.zeros(shape = (dim_G,Monte))\n",
    "Error_GNG = np.zeros(shape = (dim_G,Monte))"
   ]
  },
  {
   "cell_type": "code",
   "execution_count": 15,
   "metadata": {},
   "outputs": [],
   "source": [
    "# Monte Code\n",
    "for k in range(0,Monte):\n",
    "    Data = pd.read_excel('Energy.xlsx')                     #Reading data, should be customized to read new data file.\n",
    "    Data = pd.DataFrame(preprocessing.scale(Data))\n",
    "    Data = Data.sort_values(by = [5])                       #Sorting data, should be customized to sort the data according to a different attributed.\n",
    "    Dat = Data.to_numpy()\n",
    "    Y = Dat[:,0]\n",
    "    X = np.delete(Dat,0,axis = 1)\n",
    "    D = distance.squareform(distance.pdist(X,'euclidean'))\n",
    "    Kern_Gauss = np.exp(-D**2/(2*width**2))\n",
    "    Kern_Gauss_inv = LA.inv(Kern_Gauss)\n",
    "    Ex = np.zeros(shape = (m,1))\n",
    "    for i in range(0,m):\n",
    "        Ex = np.exp(-LA.norm(X[i,:])**2/(2*width**2))\n",
    "    L= (1/width)*Ex*X\n",
    "    X_Taylor = np.hstack((Ex*np.ones(shape = (m,1)),L))\n",
    "    (X_train,X_test)=(X[index,:],np.delete(X,index,0))\n",
    "    (X_Taylor_train,X_Taylor_test)=(X_Taylor[index,:],np.delete(X_Taylor,index,0))\n",
    "    (Y_train,Y_test)=(Y[index],np.delete(Y,index,0))\n",
    "    D_train = distance.squareform(distance.pdist(X_train,'euclidean'))\n",
    "    Kern_Gauss_train = np.exp(-D_train**2/(2*width**2))\n",
    "    Kern_Gauss_train_inv = LA.inv(Kern_Gauss_train)\n",
    "    CrossKern_Gauss = np.zeros(shape = (m_e,m_t))\n",
    "    for i in range(0,m_e):\n",
    "        for j in range(0,m_t):\n",
    "            CrossKern_Gauss[i,j] = np.exp(-distance.euclidean(X_test[i],X_train[j])**2/(2*width**2))\n",
    "    for i in range(0,dim_G):\n",
    "        Error_GNG[i,k] = LA.norm(OR(X_Taylor_train[:,0:i],Kern_Gauss_train_inv,Y_train,X_Taylor_test[:,0:i],CrossKern_Gauss) - Y_test,ord = 2)/m_e\n",
    "    Y_hat = LA.multi_dot([CrossKern_Gauss,Kern_Gauss_train_inv,Y_train])    \n",
    "    Er_KRR_GNG[k] = LA.norm(Y_hat - Y_test,ord = 2)/m_e\n",
    "    for i in range(0,dim_G):\n",
    "        Error_Taylor_reg[i,k] = LA.norm(Y_test - LA.multi_dot([X_Taylor_test[:,0:i],LA.inv(np.dot(np.transpose(X_Taylor_train[:,0:i]),X_Taylor_train[:,0:i])),np.transpose(X_Taylor_train[:,0:i]),Y_train])  , ord = 2)/m_e           \n"
   ]
  },
  {
   "cell_type": "code",
   "execution_count": 16,
   "metadata": {},
   "outputs": [],
   "source": [
    "#%%Average OR Error\n",
    "Error_GNG_avg = np.zeros(shape = (dim_G,1))\n",
    "Error_GNG_ste = np.zeros(shape = (dim_G,1))\n",
    "for i in range(0,dim_G):\n",
    "    Error_GNG_avg[i] = np.mean(Error_GNG[i,:])\n",
    "for i in range(0,dim_G):\n",
    "    Error_GNG_ste[i] = np.std(Error_GNG[i,:])/Monte\n",
    "\n"
   ]
  },
  {
   "cell_type": "code",
   "execution_count": 17,
   "metadata": {},
   "outputs": [],
   "source": [
    "#%%Average Taylor Regression Error\n",
    "Error_Taylor_avg = np.zeros(shape = (dim_G,1))\n",
    "Error_Taylor_ste = np.zeros(shape = (dim_G,1))\n",
    "for i in range(0,dim_G):\n",
    "    Error_Taylor_avg[i] = np.mean(Error_Taylor_reg[i,:])\n",
    "    \n",
    "for i in range(0,dim_G):\n",
    "    Error_Taylor_ste[i] = np.std(Error_Taylor_reg[i,:])/Monte"
   ]
  },
  {
   "cell_type": "code",
   "execution_count": 18,
   "metadata": {},
   "outputs": [],
   "source": [
    "#%%Average Kernel Ridgeless Regression\n",
    "Er_KRR_avg = np.mean(Er_KRR_GNG)*np.ones(shape = (dim_G,1))\n",
    "Er_KRR_ste = np.std(Er_KRR_GNG)/Monte*np.ones(shape = (dim_G,1))"
   ]
  },
  {
   "cell_type": "code",
   "execution_count": 19,
   "metadata": {},
   "outputs": [
    {
     "name": "stdout",
     "output_type": "stream",
     "text": [
      "[[0.01255351 0.01255351]\n",
      " [0.01244876 0.01244876]\n",
      " [0.00198465 0.00198465]\n",
      " [0.00205688 0.00205688]\n",
      " [0.0048847  0.0048847 ]\n",
      " [0.00143924 0.00143924]\n",
      " [0.0038839  0.0038839 ]\n",
      " [0.00247106 0.00247106]\n",
      " [0.00231194 0.00231194]]\n",
      "[[0.06112879 0.06112879]\n",
      " [0.06113386 0.06113386]\n",
      " [0.00771449 0.00771449]\n",
      " [0.00769318 0.00769318]\n",
      " [0.00771975 0.00771975]\n",
      " [0.0059553  0.0059553 ]\n",
      " [0.00597381 0.00597381]\n",
      " [0.00603938 0.00603938]\n",
      " [0.00603608 0.00603608]]\n",
      "[[0.01255351]\n",
      " [0.01255351]]\n"
     ]
    }
   ],
   "source": [
    "#%%Output\n",
    "print(Error_GNG)            #The L-2 norm of the test error vector for Optimal Recovery. A dim(dim_G,Monte) array. Row i corresponds to Optimal Recovery error with subspace V of dimension i+1 for Monte number of simulations.\n",
    "print(Error_Taylor_reg)     #The L-2 norm of the test error vector for Taylor feature regression. A dim(dim_G,Monte) array. Row i corresponds to Taylor feature regression error with space V of dimension i+1 for Monte number of simulations.\n",
    "print(Er_KRR_GNG)           #The L-2 norm of the test error vector for Gaussian kernel ridgeless regression. A dim(Monte,1) array. When the full dataset is being used, Monte = 1, this output become a number."
   ]
  },
  {
   "cell_type": "code",
   "execution_count": 20,
   "metadata": {},
   "outputs": [
    {
     "name": "stderr",
     "output_type": "stream",
     "text": [
      "The PostScript backend does not support transparency; partially transparent artists will be rendered opaque.\n",
      "The PostScript backend does not support transparency; partially transparent artists will be rendered opaque.\n"
     ]
    },
    {
     "data": {
      "image/png": "[encoded data removed]",
      "text/plain": [
       "<Figure size 432x288 with 1 Axes>"
      ]
     },
     "metadata": {
      "needs_background": "light"
     },
     "output_type": "display_data"
    }
   ],
   "source": [
    "#%%Plot\n",
    "Xlabel = range(1,10)\n",
    "plt.plot(Xlabel,Error_GNG_avg,color='red',label = 'Optimal Recovery')\n",
    "plt.plot(Xlabel,Error_Taylor_avg, color='blue',label = 'Taylor Feature Regression')\n",
    "plt.plot(Xlabel,Er_KRR_avg,color = 'green',label = 'Kernel Ridgeless Regression')\n",
    "plt.ylabel('L2 Norm of Test Error',fontname=\"Times New Roman\")\n",
    "plt.xlabel('Dim(V)',fontname=\"Times New Roman\")\n",
    "plt.suptitle('Energy Use',fontname=\"Times New Roman\")\n",
    "plt.legend()\n",
    "plt.gcf().subplots_adjust(bottom=0.15,left = 0.15)\n",
    "plt.savefig(\"Energy_Taylor.eps\",format = 'eps') "
   ]
  }
 ],
 "metadata": {
  "kernelspec": {
   "display_name": "Python 3",
   "language": "python",
   "name": "python3"
  },
  "language_info": {
   "codemirror_mode": {
    "name": "ipython",
    "version": 3
   },
   "file_extension": ".py",
   "mimetype": "text/x-python",
   "name": "python",
   "nbconvert_exporter": "python",
   "pygments_lexer": "ipython3",
   "version": "3.7.6"
  }
 },
 "nbformat": 4,
 "nbformat_minor": 4
}
